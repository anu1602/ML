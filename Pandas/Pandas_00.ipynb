{
 "cells": [
  {
   "cell_type": "markdown",
   "metadata": {},
   "source": [
    "# 10 min to pandas"
   ]
  },
  {
   "cell_type": "code",
   "execution_count": 1,
   "metadata": {},
   "outputs": [],
   "source": [
    "import numpy as np\n",
    "\n",
    "import pandas as pd"
   ]
  },
  {
   "cell_type": "markdown",
   "metadata": {},
   "source": [
    "## Object Creation\n",
    "\n",
    "* Creating Series by passing a list of values"
   ]
  },
  {
   "cell_type": "code",
   "execution_count": 3,
   "metadata": {},
   "outputs": [
    {
     "data": {
      "text/plain": [
       "0    1.0\n",
       "1    3.0\n",
       "2    5.0\n",
       "3    NaN\n",
       "4    6.0\n",
       "5    8.0\n",
       "dtype: float64"
      ]
     },
     "execution_count": 3,
     "metadata": {},
     "output_type": "execute_result"
    }
   ],
   "source": [
    "s = pd.Series([1,3,5,np.nan,6,8])\n",
    "s"
   ]
  },
  {
   "cell_type": "markdown",
   "metadata": {},
   "source": [
    "## Creating DataFrame by passing a NumPy array, with datetime index and labeled columns"
   ]
  },
  {
   "cell_type": "code",
   "execution_count": 4,
   "metadata": {},
   "outputs": [
    {
     "data": {
      "text/plain": [
       "DatetimeIndex(['2019-12-20', '2019-12-21', '2019-12-22', '2019-12-23',\n",
       "               '2019-12-24', '2019-12-25'],\n",
       "              dtype='datetime64[ns]', freq='D')"
      ]
     },
     "execution_count": 4,
     "metadata": {},
     "output_type": "execute_result"
    }
   ],
   "source": [
    "dates = pd.date_range('20191220', periods=6)\n",
    "dates"
   ]
  },
  {
   "cell_type": "code",
   "execution_count": 5,
   "metadata": {},
   "outputs": [
    {
     "data": {
      "text/html": [
       "<div>\n",
       "<style scoped>\n",
       "    .dataframe tbody tr th:only-of-type {\n",
       "        vertical-align: middle;\n",
       "    }\n",
       "\n",
       "    .dataframe tbody tr th {\n",
       "        vertical-align: top;\n",
       "    }\n",
       "\n",
       "    .dataframe thead th {\n",
       "        text-align: right;\n",
       "    }\n",
       "</style>\n",
       "<table border=\"1\" class=\"dataframe\">\n",
       "  <thead>\n",
       "    <tr style=\"text-align: right;\">\n",
       "      <th></th>\n",
       "      <th>A</th>\n",
       "      <th>B</th>\n",
       "      <th>C</th>\n",
       "      <th>D</th>\n",
       "    </tr>\n",
       "  </thead>\n",
       "  <tbody>\n",
       "    <tr>\n",
       "      <td>2019-12-20</td>\n",
       "      <td>0.557917</td>\n",
       "      <td>-1.477830</td>\n",
       "      <td>-0.295270</td>\n",
       "      <td>0.368942</td>\n",
       "    </tr>\n",
       "    <tr>\n",
       "      <td>2019-12-21</td>\n",
       "      <td>-1.103909</td>\n",
       "      <td>-0.664318</td>\n",
       "      <td>2.827123</td>\n",
       "      <td>0.358238</td>\n",
       "    </tr>\n",
       "    <tr>\n",
       "      <td>2019-12-22</td>\n",
       "      <td>-0.347208</td>\n",
       "      <td>-1.471690</td>\n",
       "      <td>0.419071</td>\n",
       "      <td>0.536951</td>\n",
       "    </tr>\n",
       "    <tr>\n",
       "      <td>2019-12-23</td>\n",
       "      <td>1.250362</td>\n",
       "      <td>-0.609198</td>\n",
       "      <td>0.480425</td>\n",
       "      <td>-0.491609</td>\n",
       "    </tr>\n",
       "    <tr>\n",
       "      <td>2019-12-24</td>\n",
       "      <td>-0.178046</td>\n",
       "      <td>-0.235816</td>\n",
       "      <td>1.651153</td>\n",
       "      <td>-0.789384</td>\n",
       "    </tr>\n",
       "    <tr>\n",
       "      <td>2019-12-25</td>\n",
       "      <td>-0.508748</td>\n",
       "      <td>-0.715985</td>\n",
       "      <td>-1.202888</td>\n",
       "      <td>-0.920789</td>\n",
       "    </tr>\n",
       "  </tbody>\n",
       "</table>\n",
       "</div>"
      ],
      "text/plain": [
       "                   A         B         C         D\n",
       "2019-12-20  0.557917 -1.477830 -0.295270  0.368942\n",
       "2019-12-21 -1.103909 -0.664318  2.827123  0.358238\n",
       "2019-12-22 -0.347208 -1.471690  0.419071  0.536951\n",
       "2019-12-23  1.250362 -0.609198  0.480425 -0.491609\n",
       "2019-12-24 -0.178046 -0.235816  1.651153 -0.789384\n",
       "2019-12-25 -0.508748 -0.715985 -1.202888 -0.920789"
      ]
     },
     "execution_count": 5,
     "metadata": {},
     "output_type": "execute_result"
    }
   ],
   "source": [
    "df = pd.DataFrame(np.random.randn(6,4), index=dates, columns=list('ABCD'))\n",
    "df"
   ]
  },
  {
   "cell_type": "markdown",
   "metadata": {},
   "source": [
    "### Creating a DataFrame by passing a dict of objects that can be converted to series-like"
   ]
  },
  {
   "cell_type": "code",
   "execution_count": 7,
   "metadata": {},
   "outputs": [],
   "source": [
    "df2 = pd.DataFrame({'A':1.,\n",
    "                                    'B': pd.Timestamp('20191220'),\n",
    "                                     'C': pd.Series(1, index=list(range(4)), dtype='float32'),\n",
    "                                     'D': np.array([3]*4, dtype='int32'),\n",
    "                                     'E': pd.Categorical([\"test\",\"train\", \"test\",\"train\"]),\n",
    "                                     'F':'foo'})"
   ]
  },
  {
   "cell_type": "code",
   "execution_count": 8,
   "metadata": {},
   "outputs": [
    {
     "data": {
      "text/html": [
       "<div>\n",
       "<style scoped>\n",
       "    .dataframe tbody tr th:only-of-type {\n",
       "        vertical-align: middle;\n",
       "    }\n",
       "\n",
       "    .dataframe tbody tr th {\n",
       "        vertical-align: top;\n",
       "    }\n",
       "\n",
       "    .dataframe thead th {\n",
       "        text-align: right;\n",
       "    }\n",
       "</style>\n",
       "<table border=\"1\" class=\"dataframe\">\n",
       "  <thead>\n",
       "    <tr style=\"text-align: right;\">\n",
       "      <th></th>\n",
       "      <th>A</th>\n",
       "      <th>B</th>\n",
       "      <th>C</th>\n",
       "      <th>D</th>\n",
       "      <th>E</th>\n",
       "      <th>F</th>\n",
       "    </tr>\n",
       "  </thead>\n",
       "  <tbody>\n",
       "    <tr>\n",
       "      <td>0</td>\n",
       "      <td>1.0</td>\n",
       "      <td>2019-12-20</td>\n",
       "      <td>1.0</td>\n",
       "      <td>3</td>\n",
       "      <td>test</td>\n",
       "      <td>foo</td>\n",
       "    </tr>\n",
       "    <tr>\n",
       "      <td>1</td>\n",
       "      <td>1.0</td>\n",
       "      <td>2019-12-20</td>\n",
       "      <td>1.0</td>\n",
       "      <td>3</td>\n",
       "      <td>train</td>\n",
       "      <td>foo</td>\n",
       "    </tr>\n",
       "    <tr>\n",
       "      <td>2</td>\n",
       "      <td>1.0</td>\n",
       "      <td>2019-12-20</td>\n",
       "      <td>1.0</td>\n",
       "      <td>3</td>\n",
       "      <td>test</td>\n",
       "      <td>foo</td>\n",
       "    </tr>\n",
       "    <tr>\n",
       "      <td>3</td>\n",
       "      <td>1.0</td>\n",
       "      <td>2019-12-20</td>\n",
       "      <td>1.0</td>\n",
       "      <td>3</td>\n",
       "      <td>train</td>\n",
       "      <td>foo</td>\n",
       "    </tr>\n",
       "  </tbody>\n",
       "</table>\n",
       "</div>"
      ],
      "text/plain": [
       "     A          B    C  D      E    F\n",
       "0  1.0 2019-12-20  1.0  3   test  foo\n",
       "1  1.0 2019-12-20  1.0  3  train  foo\n",
       "2  1.0 2019-12-20  1.0  3   test  foo\n",
       "3  1.0 2019-12-20  1.0  3  train  foo"
      ]
     },
     "execution_count": 8,
     "metadata": {},
     "output_type": "execute_result"
    }
   ],
   "source": [
    "df2"
   ]
  },
  {
   "cell_type": "markdown",
   "metadata": {},
   "source": [
    "##### The columns of the resulting DataFrame have different dtypes."
   ]
  },
  {
   "cell_type": "code",
   "execution_count": 9,
   "metadata": {},
   "outputs": [
    {
     "data": {
      "text/plain": [
       "A           float64\n",
       "B    datetime64[ns]\n",
       "C           float32\n",
       "D             int32\n",
       "E          category\n",
       "F            object\n",
       "dtype: object"
      ]
     },
     "execution_count": 9,
     "metadata": {},
     "output_type": "execute_result"
    }
   ],
   "source": [
    "df2.dtypes"
   ]
  },
  {
   "cell_type": "code",
   "execution_count": 12,
   "metadata": {},
   "outputs": [
    {
     "data": {
      "text/plain": [
       "0    1.0\n",
       "1    1.0\n",
       "2    1.0\n",
       "3    1.0\n",
       "Name: A, dtype: float64"
      ]
     },
     "execution_count": 12,
     "metadata": {},
     "output_type": "execute_result"
    }
   ],
   "source": [
    "df2.A"
   ]
  },
  {
   "cell_type": "code",
   "execution_count": 11,
   "metadata": {},
   "outputs": [
    {
     "data": {
      "text/plain": [
       "<bound method NDFrame.abs of      A          B    C  D      E    F\n",
       "0  1.0 2019-12-20  1.0  3   test  foo\n",
       "1  1.0 2019-12-20  1.0  3  train  foo\n",
       "2  1.0 2019-12-20  1.0  3   test  foo\n",
       "3  1.0 2019-12-20  1.0  3  train  foo>"
      ]
     },
     "execution_count": 11,
     "metadata": {},
     "output_type": "execute_result"
    }
   ],
   "source": [
    "df2.abs"
   ]
  },
  {
   "cell_type": "code",
   "execution_count": 13,
   "metadata": {},
   "outputs": [
    {
     "data": {
      "text/plain": [
       "<bound method _arith_method_FRAME.<locals>.f of      A          B    C  D      E    F\n",
       "0  1.0 2019-12-20  1.0  3   test  foo\n",
       "1  1.0 2019-12-20  1.0  3  train  foo\n",
       "2  1.0 2019-12-20  1.0  3   test  foo\n",
       "3  1.0 2019-12-20  1.0  3  train  foo>"
      ]
     },
     "execution_count": 13,
     "metadata": {},
     "output_type": "execute_result"
    }
   ],
   "source": [
    "df2.add"
   ]
  },
  {
   "cell_type": "markdown",
   "metadata": {},
   "source": [
    "#  View Data"
   ]
  },
  {
   "cell_type": "code",
   "execution_count": 14,
   "metadata": {},
   "outputs": [
    {
     "data": {
      "text/html": [
       "<div>\n",
       "<style scoped>\n",
       "    .dataframe tbody tr th:only-of-type {\n",
       "        vertical-align: middle;\n",
       "    }\n",
       "\n",
       "    .dataframe tbody tr th {\n",
       "        vertical-align: top;\n",
       "    }\n",
       "\n",
       "    .dataframe thead th {\n",
       "        text-align: right;\n",
       "    }\n",
       "</style>\n",
       "<table border=\"1\" class=\"dataframe\">\n",
       "  <thead>\n",
       "    <tr style=\"text-align: right;\">\n",
       "      <th></th>\n",
       "      <th>A</th>\n",
       "      <th>B</th>\n",
       "      <th>C</th>\n",
       "      <th>D</th>\n",
       "    </tr>\n",
       "  </thead>\n",
       "  <tbody>\n",
       "    <tr>\n",
       "      <td>2019-12-20</td>\n",
       "      <td>0.557917</td>\n",
       "      <td>-1.477830</td>\n",
       "      <td>-0.295270</td>\n",
       "      <td>0.368942</td>\n",
       "    </tr>\n",
       "    <tr>\n",
       "      <td>2019-12-21</td>\n",
       "      <td>-1.103909</td>\n",
       "      <td>-0.664318</td>\n",
       "      <td>2.827123</td>\n",
       "      <td>0.358238</td>\n",
       "    </tr>\n",
       "    <tr>\n",
       "      <td>2019-12-22</td>\n",
       "      <td>-0.347208</td>\n",
       "      <td>-1.471690</td>\n",
       "      <td>0.419071</td>\n",
       "      <td>0.536951</td>\n",
       "    </tr>\n",
       "    <tr>\n",
       "      <td>2019-12-23</td>\n",
       "      <td>1.250362</td>\n",
       "      <td>-0.609198</td>\n",
       "      <td>0.480425</td>\n",
       "      <td>-0.491609</td>\n",
       "    </tr>\n",
       "    <tr>\n",
       "      <td>2019-12-24</td>\n",
       "      <td>-0.178046</td>\n",
       "      <td>-0.235816</td>\n",
       "      <td>1.651153</td>\n",
       "      <td>-0.789384</td>\n",
       "    </tr>\n",
       "  </tbody>\n",
       "</table>\n",
       "</div>"
      ],
      "text/plain": [
       "                   A         B         C         D\n",
       "2019-12-20  0.557917 -1.477830 -0.295270  0.368942\n",
       "2019-12-21 -1.103909 -0.664318  2.827123  0.358238\n",
       "2019-12-22 -0.347208 -1.471690  0.419071  0.536951\n",
       "2019-12-23  1.250362 -0.609198  0.480425 -0.491609\n",
       "2019-12-24 -0.178046 -0.235816  1.651153 -0.789384"
      ]
     },
     "execution_count": 14,
     "metadata": {},
     "output_type": "execute_result"
    }
   ],
   "source": [
    "df.head()"
   ]
  },
  {
   "cell_type": "code",
   "execution_count": 15,
   "metadata": {},
   "outputs": [
    {
     "data": {
      "text/html": [
       "<div>\n",
       "<style scoped>\n",
       "    .dataframe tbody tr th:only-of-type {\n",
       "        vertical-align: middle;\n",
       "    }\n",
       "\n",
       "    .dataframe tbody tr th {\n",
       "        vertical-align: top;\n",
       "    }\n",
       "\n",
       "    .dataframe thead th {\n",
       "        text-align: right;\n",
       "    }\n",
       "</style>\n",
       "<table border=\"1\" class=\"dataframe\">\n",
       "  <thead>\n",
       "    <tr style=\"text-align: right;\">\n",
       "      <th></th>\n",
       "      <th>A</th>\n",
       "      <th>B</th>\n",
       "      <th>C</th>\n",
       "      <th>D</th>\n",
       "    </tr>\n",
       "  </thead>\n",
       "  <tbody>\n",
       "    <tr>\n",
       "      <td>2019-12-21</td>\n",
       "      <td>-1.103909</td>\n",
       "      <td>-0.664318</td>\n",
       "      <td>2.827123</td>\n",
       "      <td>0.358238</td>\n",
       "    </tr>\n",
       "    <tr>\n",
       "      <td>2019-12-22</td>\n",
       "      <td>-0.347208</td>\n",
       "      <td>-1.471690</td>\n",
       "      <td>0.419071</td>\n",
       "      <td>0.536951</td>\n",
       "    </tr>\n",
       "    <tr>\n",
       "      <td>2019-12-23</td>\n",
       "      <td>1.250362</td>\n",
       "      <td>-0.609198</td>\n",
       "      <td>0.480425</td>\n",
       "      <td>-0.491609</td>\n",
       "    </tr>\n",
       "    <tr>\n",
       "      <td>2019-12-24</td>\n",
       "      <td>-0.178046</td>\n",
       "      <td>-0.235816</td>\n",
       "      <td>1.651153</td>\n",
       "      <td>-0.789384</td>\n",
       "    </tr>\n",
       "    <tr>\n",
       "      <td>2019-12-25</td>\n",
       "      <td>-0.508748</td>\n",
       "      <td>-0.715985</td>\n",
       "      <td>-1.202888</td>\n",
       "      <td>-0.920789</td>\n",
       "    </tr>\n",
       "  </tbody>\n",
       "</table>\n",
       "</div>"
      ],
      "text/plain": [
       "                   A         B         C         D\n",
       "2019-12-21 -1.103909 -0.664318  2.827123  0.358238\n",
       "2019-12-22 -0.347208 -1.471690  0.419071  0.536951\n",
       "2019-12-23  1.250362 -0.609198  0.480425 -0.491609\n",
       "2019-12-24 -0.178046 -0.235816  1.651153 -0.789384\n",
       "2019-12-25 -0.508748 -0.715985 -1.202888 -0.920789"
      ]
     },
     "execution_count": 15,
     "metadata": {},
     "output_type": "execute_result"
    }
   ],
   "source": [
    "df.tail()"
   ]
  },
  {
   "cell_type": "code",
   "execution_count": 16,
   "metadata": {},
   "outputs": [
    {
     "data": {
      "text/plain": [
       "DatetimeIndex(['2019-12-20', '2019-12-21', '2019-12-22', '2019-12-23',\n",
       "               '2019-12-24', '2019-12-25'],\n",
       "              dtype='datetime64[ns]', freq='D')"
      ]
     },
     "execution_count": 16,
     "metadata": {},
     "output_type": "execute_result"
    }
   ],
   "source": [
    "df.index"
   ]
  },
  {
   "cell_type": "code",
   "execution_count": 17,
   "metadata": {},
   "outputs": [
    {
     "data": {
      "text/plain": [
       "Index(['A', 'B', 'C', 'D'], dtype='object')"
      ]
     },
     "execution_count": 17,
     "metadata": {},
     "output_type": "execute_result"
    }
   ],
   "source": [
    "df.columns"
   ]
  },
  {
   "cell_type": "markdown",
   "metadata": {},
   "source": [
    "Fordf, our DataFrame of all floating-point values, DataFrame.to_numpy() is fast and doesnt require copying data"
   ]
  },
  {
   "cell_type": "code",
   "execution_count": 18,
   "metadata": {},
   "outputs": [
    {
     "data": {
      "text/plain": [
       "array([[ 0.55791657, -1.47782965, -0.2952703 ,  0.36894162],\n",
       "       [-1.10390945, -0.66431824,  2.82712347,  0.35823796],\n",
       "       [-0.34720751, -1.47168992,  0.41907056,  0.53695081],\n",
       "       [ 1.25036179, -0.60919783,  0.48042548, -0.49160905],\n",
       "       [-0.17804631, -0.23581635,  1.65115339, -0.78938354],\n",
       "       [-0.50874806, -0.71598461, -1.20288782, -0.92078889]])"
      ]
     },
     "execution_count": 18,
     "metadata": {},
     "output_type": "execute_result"
    }
   ],
   "source": [
    "df.to_numpy()"
   ]
  },
  {
   "cell_type": "markdown",
   "metadata": {},
   "source": [
    "For df2, theDataFrame with multiple dtypes,DataFrame.to_numpy() is relatively expensive."
   ]
  },
  {
   "cell_type": "code",
   "execution_count": 19,
   "metadata": {},
   "outputs": [
    {
     "data": {
      "text/plain": [
       "array([[1.0, Timestamp('2019-12-20 00:00:00'), 1.0, 3, 'test', 'foo'],\n",
       "       [1.0, Timestamp('2019-12-20 00:00:00'), 1.0, 3, 'train', 'foo'],\n",
       "       [1.0, Timestamp('2019-12-20 00:00:00'), 1.0, 3, 'test', 'foo'],\n",
       "       [1.0, Timestamp('2019-12-20 00:00:00'), 1.0, 3, 'train', 'foo']],\n",
       "      dtype=object)"
      ]
     },
     "execution_count": 19,
     "metadata": {},
     "output_type": "execute_result"
    }
   ],
   "source": [
    "df2.to_numpy()"
   ]
  },
  {
   "cell_type": "markdown",
   "metadata": {},
   "source": [
    "Note: DataFrame.to_numpy() does not include the index or column labels in the output"
   ]
  },
  {
   "cell_type": "markdown",
   "metadata": {},
   "source": [
    "## describe() shows a quick statistic summary of your data"
   ]
  },
  {
   "cell_type": "code",
   "execution_count": 20,
   "metadata": {},
   "outputs": [
    {
     "data": {
      "text/html": [
       "<div>\n",
       "<style scoped>\n",
       "    .dataframe tbody tr th:only-of-type {\n",
       "        vertical-align: middle;\n",
       "    }\n",
       "\n",
       "    .dataframe tbody tr th {\n",
       "        vertical-align: top;\n",
       "    }\n",
       "\n",
       "    .dataframe thead th {\n",
       "        text-align: right;\n",
       "    }\n",
       "</style>\n",
       "<table border=\"1\" class=\"dataframe\">\n",
       "  <thead>\n",
       "    <tr style=\"text-align: right;\">\n",
       "      <th></th>\n",
       "      <th>A</th>\n",
       "      <th>B</th>\n",
       "      <th>C</th>\n",
       "      <th>D</th>\n",
       "    </tr>\n",
       "  </thead>\n",
       "  <tbody>\n",
       "    <tr>\n",
       "      <td>count</td>\n",
       "      <td>6.000000</td>\n",
       "      <td>6.000000</td>\n",
       "      <td>6.000000</td>\n",
       "      <td>6.000000</td>\n",
       "    </tr>\n",
       "    <tr>\n",
       "      <td>mean</td>\n",
       "      <td>-0.054939</td>\n",
       "      <td>-0.862473</td>\n",
       "      <td>0.646602</td>\n",
       "      <td>-0.156275</td>\n",
       "    </tr>\n",
       "    <tr>\n",
       "      <td>std</td>\n",
       "      <td>0.835016</td>\n",
       "      <td>0.503464</td>\n",
       "      <td>1.424845</td>\n",
       "      <td>0.650983</td>\n",
       "    </tr>\n",
       "    <tr>\n",
       "      <td>min</td>\n",
       "      <td>-1.103909</td>\n",
       "      <td>-1.477830</td>\n",
       "      <td>-1.202888</td>\n",
       "      <td>-0.920789</td>\n",
       "    </tr>\n",
       "    <tr>\n",
       "      <td>25%</td>\n",
       "      <td>-0.468363</td>\n",
       "      <td>-1.282764</td>\n",
       "      <td>-0.116685</td>\n",
       "      <td>-0.714940</td>\n",
       "    </tr>\n",
       "    <tr>\n",
       "      <td>50%</td>\n",
       "      <td>-0.262627</td>\n",
       "      <td>-0.690151</td>\n",
       "      <td>0.449748</td>\n",
       "      <td>-0.066686</td>\n",
       "    </tr>\n",
       "    <tr>\n",
       "      <td>75%</td>\n",
       "      <td>0.373926</td>\n",
       "      <td>-0.622978</td>\n",
       "      <td>1.358471</td>\n",
       "      <td>0.366266</td>\n",
       "    </tr>\n",
       "    <tr>\n",
       "      <td>max</td>\n",
       "      <td>1.250362</td>\n",
       "      <td>-0.235816</td>\n",
       "      <td>2.827123</td>\n",
       "      <td>0.536951</td>\n",
       "    </tr>\n",
       "  </tbody>\n",
       "</table>\n",
       "</div>"
      ],
      "text/plain": [
       "              A         B         C         D\n",
       "count  6.000000  6.000000  6.000000  6.000000\n",
       "mean  -0.054939 -0.862473  0.646602 -0.156275\n",
       "std    0.835016  0.503464  1.424845  0.650983\n",
       "min   -1.103909 -1.477830 -1.202888 -0.920789\n",
       "25%   -0.468363 -1.282764 -0.116685 -0.714940\n",
       "50%   -0.262627 -0.690151  0.449748 -0.066686\n",
       "75%    0.373926 -0.622978  1.358471  0.366266\n",
       "max    1.250362 -0.235816  2.827123  0.536951"
      ]
     },
     "execution_count": 20,
     "metadata": {},
     "output_type": "execute_result"
    }
   ],
   "source": [
    "df.describe()"
   ]
  },
  {
   "cell_type": "markdown",
   "metadata": {},
   "source": [
    "# Transposing your data:"
   ]
  },
  {
   "cell_type": "code",
   "execution_count": 21,
   "metadata": {},
   "outputs": [
    {
     "data": {
      "text/html": [
       "<div>\n",
       "<style scoped>\n",
       "    .dataframe tbody tr th:only-of-type {\n",
       "        vertical-align: middle;\n",
       "    }\n",
       "\n",
       "    .dataframe tbody tr th {\n",
       "        vertical-align: top;\n",
       "    }\n",
       "\n",
       "    .dataframe thead th {\n",
       "        text-align: right;\n",
       "    }\n",
       "</style>\n",
       "<table border=\"1\" class=\"dataframe\">\n",
       "  <thead>\n",
       "    <tr style=\"text-align: right;\">\n",
       "      <th></th>\n",
       "      <th>2019-12-20</th>\n",
       "      <th>2019-12-21</th>\n",
       "      <th>2019-12-22</th>\n",
       "      <th>2019-12-23</th>\n",
       "      <th>2019-12-24</th>\n",
       "      <th>2019-12-25</th>\n",
       "    </tr>\n",
       "  </thead>\n",
       "  <tbody>\n",
       "    <tr>\n",
       "      <td>A</td>\n",
       "      <td>0.557917</td>\n",
       "      <td>-1.103909</td>\n",
       "      <td>-0.347208</td>\n",
       "      <td>1.250362</td>\n",
       "      <td>-0.178046</td>\n",
       "      <td>-0.508748</td>\n",
       "    </tr>\n",
       "    <tr>\n",
       "      <td>B</td>\n",
       "      <td>-1.477830</td>\n",
       "      <td>-0.664318</td>\n",
       "      <td>-1.471690</td>\n",
       "      <td>-0.609198</td>\n",
       "      <td>-0.235816</td>\n",
       "      <td>-0.715985</td>\n",
       "    </tr>\n",
       "    <tr>\n",
       "      <td>C</td>\n",
       "      <td>-0.295270</td>\n",
       "      <td>2.827123</td>\n",
       "      <td>0.419071</td>\n",
       "      <td>0.480425</td>\n",
       "      <td>1.651153</td>\n",
       "      <td>-1.202888</td>\n",
       "    </tr>\n",
       "    <tr>\n",
       "      <td>D</td>\n",
       "      <td>0.368942</td>\n",
       "      <td>0.358238</td>\n",
       "      <td>0.536951</td>\n",
       "      <td>-0.491609</td>\n",
       "      <td>-0.789384</td>\n",
       "      <td>-0.920789</td>\n",
       "    </tr>\n",
       "  </tbody>\n",
       "</table>\n",
       "</div>"
      ],
      "text/plain": [
       "   2019-12-20  2019-12-21  2019-12-22  2019-12-23  2019-12-24  2019-12-25\n",
       "A    0.557917   -1.103909   -0.347208    1.250362   -0.178046   -0.508748\n",
       "B   -1.477830   -0.664318   -1.471690   -0.609198   -0.235816   -0.715985\n",
       "C   -0.295270    2.827123    0.419071    0.480425    1.651153   -1.202888\n",
       "D    0.368942    0.358238    0.536951   -0.491609   -0.789384   -0.920789"
      ]
     },
     "execution_count": 21,
     "metadata": {},
     "output_type": "execute_result"
    }
   ],
   "source": [
    "df.T"
   ]
  },
  {
   "cell_type": "markdown",
   "metadata": {},
   "source": [
    "### Sorting by an axis"
   ]
  },
  {
   "cell_type": "code",
   "execution_count": 22,
   "metadata": {},
   "outputs": [
    {
     "data": {
      "text/html": [
       "<div>\n",
       "<style scoped>\n",
       "    .dataframe tbody tr th:only-of-type {\n",
       "        vertical-align: middle;\n",
       "    }\n",
       "\n",
       "    .dataframe tbody tr th {\n",
       "        vertical-align: top;\n",
       "    }\n",
       "\n",
       "    .dataframe thead th {\n",
       "        text-align: right;\n",
       "    }\n",
       "</style>\n",
       "<table border=\"1\" class=\"dataframe\">\n",
       "  <thead>\n",
       "    <tr style=\"text-align: right;\">\n",
       "      <th></th>\n",
       "      <th>D</th>\n",
       "      <th>C</th>\n",
       "      <th>B</th>\n",
       "      <th>A</th>\n",
       "    </tr>\n",
       "  </thead>\n",
       "  <tbody>\n",
       "    <tr>\n",
       "      <td>2019-12-20</td>\n",
       "      <td>0.368942</td>\n",
       "      <td>-0.295270</td>\n",
       "      <td>-1.477830</td>\n",
       "      <td>0.557917</td>\n",
       "    </tr>\n",
       "    <tr>\n",
       "      <td>2019-12-21</td>\n",
       "      <td>0.358238</td>\n",
       "      <td>2.827123</td>\n",
       "      <td>-0.664318</td>\n",
       "      <td>-1.103909</td>\n",
       "    </tr>\n",
       "    <tr>\n",
       "      <td>2019-12-22</td>\n",
       "      <td>0.536951</td>\n",
       "      <td>0.419071</td>\n",
       "      <td>-1.471690</td>\n",
       "      <td>-0.347208</td>\n",
       "    </tr>\n",
       "    <tr>\n",
       "      <td>2019-12-23</td>\n",
       "      <td>-0.491609</td>\n",
       "      <td>0.480425</td>\n",
       "      <td>-0.609198</td>\n",
       "      <td>1.250362</td>\n",
       "    </tr>\n",
       "    <tr>\n",
       "      <td>2019-12-24</td>\n",
       "      <td>-0.789384</td>\n",
       "      <td>1.651153</td>\n",
       "      <td>-0.235816</td>\n",
       "      <td>-0.178046</td>\n",
       "    </tr>\n",
       "    <tr>\n",
       "      <td>2019-12-25</td>\n",
       "      <td>-0.920789</td>\n",
       "      <td>-1.202888</td>\n",
       "      <td>-0.715985</td>\n",
       "      <td>-0.508748</td>\n",
       "    </tr>\n",
       "  </tbody>\n",
       "</table>\n",
       "</div>"
      ],
      "text/plain": [
       "                   D         C         B         A\n",
       "2019-12-20  0.368942 -0.295270 -1.477830  0.557917\n",
       "2019-12-21  0.358238  2.827123 -0.664318 -1.103909\n",
       "2019-12-22  0.536951  0.419071 -1.471690 -0.347208\n",
       "2019-12-23 -0.491609  0.480425 -0.609198  1.250362\n",
       "2019-12-24 -0.789384  1.651153 -0.235816 -0.178046\n",
       "2019-12-25 -0.920789 -1.202888 -0.715985 -0.508748"
      ]
     },
     "execution_count": 22,
     "metadata": {},
     "output_type": "execute_result"
    }
   ],
   "source": [
    "df.sort_index(axis=1, ascending=False)"
   ]
  },
  {
   "cell_type": "markdown",
   "metadata": {},
   "source": [
    "## Sorting by values:"
   ]
  },
  {
   "cell_type": "code",
   "execution_count": 23,
   "metadata": {},
   "outputs": [
    {
     "data": {
      "text/html": [
       "<div>\n",
       "<style scoped>\n",
       "    .dataframe tbody tr th:only-of-type {\n",
       "        vertical-align: middle;\n",
       "    }\n",
       "\n",
       "    .dataframe tbody tr th {\n",
       "        vertical-align: top;\n",
       "    }\n",
       "\n",
       "    .dataframe thead th {\n",
       "        text-align: right;\n",
       "    }\n",
       "</style>\n",
       "<table border=\"1\" class=\"dataframe\">\n",
       "  <thead>\n",
       "    <tr style=\"text-align: right;\">\n",
       "      <th></th>\n",
       "      <th>A</th>\n",
       "      <th>B</th>\n",
       "      <th>C</th>\n",
       "      <th>D</th>\n",
       "    </tr>\n",
       "  </thead>\n",
       "  <tbody>\n",
       "    <tr>\n",
       "      <td>2019-12-20</td>\n",
       "      <td>0.557917</td>\n",
       "      <td>-1.477830</td>\n",
       "      <td>-0.295270</td>\n",
       "      <td>0.368942</td>\n",
       "    </tr>\n",
       "    <tr>\n",
       "      <td>2019-12-22</td>\n",
       "      <td>-0.347208</td>\n",
       "      <td>-1.471690</td>\n",
       "      <td>0.419071</td>\n",
       "      <td>0.536951</td>\n",
       "    </tr>\n",
       "    <tr>\n",
       "      <td>2019-12-25</td>\n",
       "      <td>-0.508748</td>\n",
       "      <td>-0.715985</td>\n",
       "      <td>-1.202888</td>\n",
       "      <td>-0.920789</td>\n",
       "    </tr>\n",
       "    <tr>\n",
       "      <td>2019-12-21</td>\n",
       "      <td>-1.103909</td>\n",
       "      <td>-0.664318</td>\n",
       "      <td>2.827123</td>\n",
       "      <td>0.358238</td>\n",
       "    </tr>\n",
       "    <tr>\n",
       "      <td>2019-12-23</td>\n",
       "      <td>1.250362</td>\n",
       "      <td>-0.609198</td>\n",
       "      <td>0.480425</td>\n",
       "      <td>-0.491609</td>\n",
       "    </tr>\n",
       "    <tr>\n",
       "      <td>2019-12-24</td>\n",
       "      <td>-0.178046</td>\n",
       "      <td>-0.235816</td>\n",
       "      <td>1.651153</td>\n",
       "      <td>-0.789384</td>\n",
       "    </tr>\n",
       "  </tbody>\n",
       "</table>\n",
       "</div>"
      ],
      "text/plain": [
       "                   A         B         C         D\n",
       "2019-12-20  0.557917 -1.477830 -0.295270  0.368942\n",
       "2019-12-22 -0.347208 -1.471690  0.419071  0.536951\n",
       "2019-12-25 -0.508748 -0.715985 -1.202888 -0.920789\n",
       "2019-12-21 -1.103909 -0.664318  2.827123  0.358238\n",
       "2019-12-23  1.250362 -0.609198  0.480425 -0.491609\n",
       "2019-12-24 -0.178046 -0.235816  1.651153 -0.789384"
      ]
     },
     "execution_count": 23,
     "metadata": {},
     "output_type": "execute_result"
    }
   ],
   "source": [
    "df.sort_values(by='B')"
   ]
  },
  {
   "cell_type": "code",
   "execution_count": null,
   "metadata": {},
   "outputs": [],
   "source": []
  }
 ],
 "metadata": {
  "kernelspec": {
   "display_name": "Python 3",
   "language": "python",
   "name": "python3"
  },
  "language_info": {
   "codemirror_mode": {
    "name": "ipython",
    "version": 3
   },
   "file_extension": ".py",
   "mimetype": "text/x-python",
   "name": "python",
   "nbconvert_exporter": "python",
   "pygments_lexer": "ipython3",
   "version": "3.7.4"
  }
 },
 "nbformat": 4,
 "nbformat_minor": 2
}
